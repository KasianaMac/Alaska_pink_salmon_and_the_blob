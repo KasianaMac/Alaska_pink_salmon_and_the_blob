{
 "cells": [
  {
   "cell_type": "markdown",
   "metadata": {
    "deletable": true,
    "editable": true
   },
   "source": [
    "## Assessing Salmon Harvests in Alaska\n",
    "\n",
    "#### To do:\n",
    "* link to online file, instead of referencing the local version"
   ]
  },
  {
   "cell_type": "code",
   "execution_count": 88,
   "metadata": {
    "collapsed": true,
    "deletable": true,
    "editable": true
   },
   "outputs": [],
   "source": [
    "import pandas as pd\n",
    "pd.set_option('display.float_format', '{:,.2f}'.format)\n",
    "%matplotlib inline"
   ]
  },
  {
   "cell_type": "markdown",
   "metadata": {},
   "source": [
    "#### Clean up the timeseries excel sheet\n",
    "The historical data separated information by species into different sheets. This code goes through each sheet, adds a column called \"species\" and then puts all that data into a single dataframe, called all_fish.\n",
    "\n",
    "#### Adjust dollars for inflation\n",
    "Adding in a CPI table to convert nominal dollars into 2017 dollars.  \n",
    "Consult https://www.bls.gov/cpi/cpi1998d.htm to understand how to use the CPI adjustment:  \n",
    "* CPI for current period (250) **less** CPI for previous period (230) **equals** index point change (20)\n",
    "* Divide index point change by previous period CPI (230) == 0.0869 to find percent change\n",
    "\n",
    "In sum: look for percent change in the index between years.\n",
    "\n",
    "#### The end result is timeseries with fish harvest counts, with nominal and inflation-adjusted values, by species."
   ]
  },
  {
   "cell_type": "code",
   "execution_count": 204,
   "metadata": {
    "collapsed": false,
    "deletable": true,
    "editable": true,
    "scrolled": true
   },
   "outputs": [
    {
     "data": {
      "text/html": [
       "<div>\n",
       "<style>\n",
       "    .dataframe thead tr:only-child th {\n",
       "        text-align: right;\n",
       "    }\n",
       "\n",
       "    .dataframe thead th {\n",
       "        text-align: left;\n",
       "    }\n",
       "\n",
       "    .dataframe tbody tr th {\n",
       "        vertical-align: top;\n",
       "    }\n",
       "</style>\n",
       "<table border=\"1\" class=\"dataframe\">\n",
       "  <thead>\n",
       "    <tr style=\"text-align: right;\">\n",
       "      <th></th>\n",
       "      <th>Harvest (thousands of fish)</th>\n",
       "      <th>Species</th>\n",
       "      <th>Value (nominal dollars)</th>\n",
       "      <th>Year</th>\n",
       "      <th>2017 multiplier</th>\n",
       "      <th>Value (2017 dollars)</th>\n",
       "    </tr>\n",
       "  </thead>\n",
       "  <tbody>\n",
       "    <tr>\n",
       "      <th>0</th>\n",
       "      <td>508.00</td>\n",
       "      <td>chinook</td>\n",
       "      <td>nan</td>\n",
       "      <td>1913</td>\n",
       "      <td>23.65</td>\n",
       "      <td>nan</td>\n",
       "    </tr>\n",
       "    <tr>\n",
       "      <th>1</th>\n",
       "      <td>796.00</td>\n",
       "      <td>coho</td>\n",
       "      <td>nan</td>\n",
       "      <td>1913</td>\n",
       "      <td>23.65</td>\n",
       "      <td>nan</td>\n",
       "    </tr>\n",
       "    <tr>\n",
       "      <th>2</th>\n",
       "      <td>28,373.00</td>\n",
       "      <td>sockeye</td>\n",
       "      <td>nan</td>\n",
       "      <td>1913</td>\n",
       "      <td>23.65</td>\n",
       "      <td>nan</td>\n",
       "    </tr>\n",
       "    <tr>\n",
       "      <th>3</th>\n",
       "      <td>26,773.00</td>\n",
       "      <td>pink</td>\n",
       "      <td>nan</td>\n",
       "      <td>1913</td>\n",
       "      <td>23.65</td>\n",
       "      <td>nan</td>\n",
       "    </tr>\n",
       "    <tr>\n",
       "      <th>4</th>\n",
       "      <td>2,853.00</td>\n",
       "      <td>chum</td>\n",
       "      <td>nan</td>\n",
       "      <td>1913</td>\n",
       "      <td>23.65</td>\n",
       "      <td>nan</td>\n",
       "    </tr>\n",
       "  </tbody>\n",
       "</table>\n",
       "</div>"
      ],
      "text/plain": [
       "   Harvest (thousands of fish)  Species  Value (nominal dollars)  Year  \\\n",
       "0                       508.00  chinook                      nan  1913   \n",
       "1                       796.00     coho                      nan  1913   \n",
       "2                    28,373.00  sockeye                      nan  1913   \n",
       "3                    26,773.00     pink                      nan  1913   \n",
       "4                     2,853.00     chum                      nan  1913   \n",
       "\n",
       "   2017 multiplier  Value (2017 dollars)  \n",
       "0            23.65                   nan  \n",
       "1            23.65                   nan  \n",
       "2            23.65                   nan  \n",
       "3            23.65                   nan  \n",
       "4            23.65                   nan  "
      ]
     },
     "execution_count": 204,
     "metadata": {},
     "output_type": "execute_result"
    }
   ],
   "source": [
    "# Data source for \"2016_12_27  Historical salmon exvessel & number of fish charts.xlsx\" was a \n",
    "# personal email communication with Jennifer Shriver, ADFG on Tue, Apr 25, 2017 at 2:55 PM.\n",
    "# jennifer.shriver@alaska.gov\n",
    "\n",
    "# 1975 through current data is available online at \n",
    "# http://www.adfg.alaska.gov/index.cfm?adfg=commercialbyfisherysalmon.salmon_grossearnings_byspecies\n",
    "\n",
    "fish_species = ['chinook', 'coho', 'sockeye', 'pink', 'chum']\n",
    "\n",
    "collected_data = ['Year','Harvest (thousands of fish)','Value (nominal dollars)']\n",
    "\n",
    "all_fish = pd.DataFrame(columns=collected_data)\n",
    "\n",
    "for fish in fish_species:\n",
    "    name = fish.upper()+\" CHART\"\n",
    "    fish_df = pd.read_excel(\"2016_12_27  Historical salmon exvessel & number of fish charts.xlsx\",\n",
    "                            sheetname=name,\n",
    "                            skiprows=32,\n",
    "                            header=None,\n",
    "                            names = collected_data,\n",
    "                            na_values = 0\n",
    "                           )\n",
    "    fish_df['Species'] = fish\n",
    "    all_fish = pd.concat([all_fish,fish_df], axis=0)\n",
    "    \n",
    "all_fish['Year'] = all_fish['Year'].astype(int)\n",
    "\n",
    "# Adjust the nominal harvest dollars for inflation\n",
    "# Source: US Bureau of Labor Statistics\n",
    "# Site: https://data.bls.gov/pdq/SurveyOutputServlet\n",
    "\n",
    "cpi = pd.read_table('CPI_Adjustment_1913_to_2017.csv', skiprows=8, sep=',')\n",
    "# Make a new column for inflation-adjusted values\n",
    "CPI2017 = cpi[cpi['Year']==2017]['Annual'].values[0]\n",
    "\n",
    "cpi['2017 multiplier'] = (CPI2017 - cpi['Annual'])/cpi['Annual']\n",
    "# 2017 multiplier is how much a 1913 dollar would buy in 2017 dollars\n",
    "\n",
    "all_fish = pd.merge(all_fish, cpi[['2017 multiplier', 'Year']], on='Year')\n",
    "#del all_fish['Annual']\n",
    "\n",
    "all_fish['Value (2017 dollars)'] = all_fish['Value (nominal dollars)']*all_fish['2017 multiplier']\n",
    "all_fish.head()"
   ]
  },
  {
   "cell_type": "markdown",
   "metadata": {},
   "source": [
    "#### Information about the Pacific Decadal Oscillation\n",
    "\n",
    "The PDO is an ocean phenomonon that periodically changes the dominant temperature regime in the North Pacific. The PDO index tracks where the PDO is within its cycle.  "
   ]
  },
  {
   "cell_type": "code",
   "execution_count": 205,
   "metadata": {
    "collapsed": false
   },
   "outputs": [
    {
     "name": "stderr",
     "output_type": "stream",
     "text": [
      "/Users/kasiana.mclenaghan/.virtualenvs/somaclass/lib/python3.6/site-packages/ipykernel/__main__.py:3: ParserWarning: Falling back to the 'python' engine because the 'c' engine does not support skipfooter; you can avoid this warning by specifying engine='python'.\n",
      "  app.launch_new_instance()\n"
     ]
    },
    {
     "data": {
      "text/html": [
       "<div>\n",
       "<style>\n",
       "    .dataframe thead tr:only-child th {\n",
       "        text-align: right;\n",
       "    }\n",
       "\n",
       "    .dataframe thead th {\n",
       "        text-align: left;\n",
       "    }\n",
       "\n",
       "    .dataframe tbody tr th {\n",
       "        vertical-align: top;\n",
       "    }\n",
       "</style>\n",
       "<table border=\"1\" class=\"dataframe\">\n",
       "  <thead>\n",
       "    <tr style=\"text-align: right;\">\n",
       "      <th></th>\n",
       "      <th>YEAR</th>\n",
       "      <th>MONTH</th>\n",
       "      <th>PDO index</th>\n",
       "    </tr>\n",
       "  </thead>\n",
       "  <tbody>\n",
       "    <tr>\n",
       "      <th>0</th>\n",
       "      <td>1900</td>\n",
       "      <td>1</td>\n",
       "      <td>0.04</td>\n",
       "    </tr>\n",
       "    <tr>\n",
       "      <th>118</th>\n",
       "      <td>1900</td>\n",
       "      <td>2</td>\n",
       "      <td>1.32</td>\n",
       "    </tr>\n",
       "    <tr>\n",
       "      <th>236</th>\n",
       "      <td>1900</td>\n",
       "      <td>3</td>\n",
       "      <td>0.49</td>\n",
       "    </tr>\n",
       "    <tr>\n",
       "      <th>354</th>\n",
       "      <td>1900</td>\n",
       "      <td>4</td>\n",
       "      <td>0.35</td>\n",
       "    </tr>\n",
       "    <tr>\n",
       "      <th>472</th>\n",
       "      <td>1900</td>\n",
       "      <td>5</td>\n",
       "      <td>0.77</td>\n",
       "    </tr>\n",
       "  </tbody>\n",
       "</table>\n",
       "</div>"
      ],
      "text/plain": [
       "     YEAR  MONTH  PDO index\n",
       "0    1900      1       0.04\n",
       "118  1900      2       1.32\n",
       "236  1900      3       0.49\n",
       "354  1900      4       0.35\n",
       "472  1900      5       0.77"
      ]
     },
     "execution_count": 205,
     "metadata": {},
     "output_type": "execute_result"
    }
   ],
   "source": [
    "pdo = pd.read_table('PDO.latest.txt',skiprows=33, delim_whitespace=True, skipfooter=16,\n",
    "                    # change the column headers to integer months instead of text abbreviation months\n",
    "                    names = ['YEAR','1','2','3','4','5','6','7','8','9','10','11','12']\n",
    "                   )\n",
    "\n",
    "# remove the ** on the years after 2002, convert this string column to integers\n",
    "pdo['YEAR'] = pdo['YEAR'].str.replace(\"\\*\\*\",\"\").astype(int)\n",
    "\n",
    "# convert this wide data to long data by changing the month columns into a variable\n",
    "# called month and the value in the cell to the column \"PDO Index\"\n",
    "# and separate them based on the \"year\"\n",
    "\n",
    "pdo = pdo.melt(var_name='MONTH', value_name='PDO index', id_vars=['YEAR'])\n",
    "pdo['MONTH'] = pdo['MONTH'].astype(int)\n",
    "pdo.sort_values(by=['YEAR','MONTH'], ascending=True, inplace=True)\n",
    "pdo.head()"
   ]
  },
  {
   "cell_type": "code",
   "execution_count": null,
   "metadata": {
    "collapsed": true
   },
   "outputs": [],
   "source": []
  },
  {
   "cell_type": "code",
   "execution_count": null,
   "metadata": {
    "collapsed": true
   },
   "outputs": [],
   "source": []
  },
  {
   "cell_type": "code",
   "execution_count": 202,
   "metadata": {
    "collapsed": false,
    "deletable": true,
    "editable": true,
    "scrolled": true
   },
   "outputs": [
    {
     "data": {
      "text/plain": [
       "<matplotlib.axes._subplots.AxesSubplot at 0x10b9824e0>"
      ]
     },
     "execution_count": 202,
     "metadata": {},
     "output_type": "execute_result"
    },
    {
     "data": {
      "image/png": "[encoded data removed]",
      "text/plain": [
       "<matplotlib.figure.Figure at 0x10b982128>"
      ]
     },
     "metadata": {},
     "output_type": "display_data"
    }
   ],
   "source": [
    "pinks = all_fish['Species']=='pink'\n",
    "odd_years = (all_fish['Year'] % 2 > 0)\n",
    "even_years = (all_fish['Year'] % 2 == 0)\n",
    "\n",
    "\n",
    "all_fish[pinks & odd_years].plot(x='Year',y='Harvest (thousands of fish)', kind='bar', figsize=(20,8))"
   ]
  },
  {
   "cell_type": "code",
   "execution_count": null,
   "metadata": {
    "collapsed": false,
    "deletable": true,
    "editable": true
   },
   "outputs": [],
   "source": []
  },
  {
   "cell_type": "code",
   "execution_count": null,
   "metadata": {
    "collapsed": true,
    "deletable": true,
    "editable": true
   },
   "outputs": [],
   "source": []
  }
 ],
 "metadata": {
  "kernelspec": {
   "display_name": "Python 3",
   "language": "python",
   "name": "python3"
  },
  "language_info": {
   "codemirror_mode": {
    "name": "ipython",
    "version": 3
   },
   "file_extension": ".py",
   "mimetype": "text/x-python",
   "name": "python",
   "nbconvert_exporter": "python",
   "pygments_lexer": "ipython3",
   "version": "3.6.0"
  }
 },
 "nbformat": 4,
 "nbformat_minor": 2
}
